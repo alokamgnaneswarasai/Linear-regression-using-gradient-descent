{
 "cells": [
  {
   "cell_type": "markdown",
   "id": "d8ec562b",
   "metadata": {},
   "source": [
    "# import data set\n"
   ]
  },
  {
   "cell_type": "code",
   "execution_count": 6,
   "id": "555eda3c",
   "metadata": {},
   "outputs": [],
   "source": [
    "import pandas as pd\n",
    "df=pd.read_csv('data.csv')"
   ]
  },
  {
   "cell_type": "code",
   "execution_count": 7,
   "id": "391480e1",
   "metadata": {},
   "outputs": [
    {
     "data": {
      "text/html": [
       "<div>\n",
       "<style scoped>\n",
       "    .dataframe tbody tr th:only-of-type {\n",
       "        vertical-align: middle;\n",
       "    }\n",
       "\n",
       "    .dataframe tbody tr th {\n",
       "        vertical-align: top;\n",
       "    }\n",
       "\n",
       "    .dataframe thead th {\n",
       "        text-align: right;\n",
       "    }\n",
       "</style>\n",
       "<table border=\"1\" class=\"dataframe\">\n",
       "  <thead>\n",
       "    <tr style=\"text-align: right;\">\n",
       "      <th></th>\n",
       "      <th>Hours</th>\n",
       "      <th>Test_scores</th>\n",
       "    </tr>\n",
       "  </thead>\n",
       "  <tbody>\n",
       "    <tr>\n",
       "      <th>0</th>\n",
       "      <td>32.502345</td>\n",
       "      <td>31.707006</td>\n",
       "    </tr>\n",
       "    <tr>\n",
       "      <th>1</th>\n",
       "      <td>53.426804</td>\n",
       "      <td>68.777596</td>\n",
       "    </tr>\n",
       "    <tr>\n",
       "      <th>2</th>\n",
       "      <td>61.530358</td>\n",
       "      <td>62.562382</td>\n",
       "    </tr>\n",
       "    <tr>\n",
       "      <th>3</th>\n",
       "      <td>47.475640</td>\n",
       "      <td>71.546632</td>\n",
       "    </tr>\n",
       "    <tr>\n",
       "      <th>4</th>\n",
       "      <td>59.813208</td>\n",
       "      <td>87.230925</td>\n",
       "    </tr>\n",
       "    <tr>\n",
       "      <th>...</th>\n",
       "      <td>...</td>\n",
       "      <td>...</td>\n",
       "    </tr>\n",
       "    <tr>\n",
       "      <th>95</th>\n",
       "      <td>50.030174</td>\n",
       "      <td>81.536991</td>\n",
       "    </tr>\n",
       "    <tr>\n",
       "      <th>96</th>\n",
       "      <td>49.239765</td>\n",
       "      <td>72.111832</td>\n",
       "    </tr>\n",
       "    <tr>\n",
       "      <th>97</th>\n",
       "      <td>50.039576</td>\n",
       "      <td>85.232007</td>\n",
       "    </tr>\n",
       "    <tr>\n",
       "      <th>98</th>\n",
       "      <td>48.149859</td>\n",
       "      <td>66.224958</td>\n",
       "    </tr>\n",
       "    <tr>\n",
       "      <th>99</th>\n",
       "      <td>25.128485</td>\n",
       "      <td>53.454394</td>\n",
       "    </tr>\n",
       "  </tbody>\n",
       "</table>\n",
       "<p>100 rows × 2 columns</p>\n",
       "</div>"
      ],
      "text/plain": [
       "        Hours  Test_scores\n",
       "0   32.502345    31.707006\n",
       "1   53.426804    68.777596\n",
       "2   61.530358    62.562382\n",
       "3   47.475640    71.546632\n",
       "4   59.813208    87.230925\n",
       "..        ...          ...\n",
       "95  50.030174    81.536991\n",
       "96  49.239765    72.111832\n",
       "97  50.039576    85.232007\n",
       "98  48.149859    66.224958\n",
       "99  25.128485    53.454394\n",
       "\n",
       "[100 rows x 2 columns]"
      ]
     },
     "execution_count": 7,
     "metadata": {},
     "output_type": "execute_result"
    }
   ],
   "source": [
    "df"
   ]
  },
  {
   "cell_type": "code",
   "execution_count": 23,
   "id": "50e5e7dd",
   "metadata": {},
   "outputs": [
    {
     "data": {
      "text/plain": [
       "100"
      ]
     },
     "execution_count": 23,
     "metadata": {},
     "output_type": "execute_result"
    }
   ],
   "source": [
    "len(df)"
   ]
  },
  {
   "cell_type": "code",
   "execution_count": 11,
   "id": "f5600008",
   "metadata": {},
   "outputs": [],
   "source": [
    "x=df['Hours']"
   ]
  },
  {
   "cell_type": "code",
   "execution_count": 12,
   "id": "2501f789",
   "metadata": {},
   "outputs": [
    {
     "name": "stdout",
     "output_type": "stream",
     "text": [
      "0     32.502345\n",
      "1     53.426804\n",
      "2     61.530358\n",
      "3     47.475640\n",
      "4     59.813208\n",
      "        ...    \n",
      "95    50.030174\n",
      "96    49.239765\n",
      "97    50.039576\n",
      "98    48.149859\n",
      "99    25.128485\n",
      "Name: Hours, Length: 100, dtype: float64\n"
     ]
    }
   ],
   "source": [
    "print(x)"
   ]
  },
  {
   "cell_type": "code",
   "execution_count": 13,
   "id": "ca4e2fc4",
   "metadata": {},
   "outputs": [],
   "source": [
    "y=df['Test_scores']"
   ]
  },
  {
   "cell_type": "code",
   "execution_count": 14,
   "id": "80c5c148",
   "metadata": {},
   "outputs": [
    {
     "name": "stdout",
     "output_type": "stream",
     "text": [
      "0     31.707006\n",
      "1     68.777596\n",
      "2     62.562382\n",
      "3     71.546632\n",
      "4     87.230925\n",
      "        ...    \n",
      "95    81.536991\n",
      "96    72.111832\n",
      "97    85.232007\n",
      "98    66.224958\n",
      "99    53.454394\n",
      "Name: Test_scores, Length: 100, dtype: float64\n"
     ]
    }
   ],
   "source": [
    "print(y)"
   ]
  },
  {
   "cell_type": "code",
   "execution_count": 15,
   "id": "df3ee784",
   "metadata": {},
   "outputs": [],
   "source": [
    "%matplotlib inline\n",
    "\n",
    "#imports\n",
    "from numpy import *\n",
    "import matplotlib.pyplot as plt"
   ]
  },
  {
   "cell_type": "markdown",
   "id": "67ea9110",
   "metadata": {},
   "source": [
    "## scatter plot for the data set "
   ]
  },
  {
   "cell_type": "code",
   "execution_count": 19,
   "id": "6efc89b0",
   "metadata": {},
   "outputs": [
    {
     "data": {
      "image/png": "[encoded data removed]",
      "text/plain": [
       "<Figure size 432x288 with 1 Axes>"
      ]
     },
     "metadata": {
      "needs_background": "light"
     },
     "output_type": "display_data"
    }
   ],
   "source": [
    "plt.scatter(x,y)\n",
    "plt.xlabel('Hours')\n",
    "plt.ylabel('Test_scores')\n",
    "plt.title('Dataset')\n",
    "plt.show()"
   ]
  },
  {
   "cell_type": "markdown",
   "id": "cbfead62",
   "metadata": {},
   "source": [
    "# define hyper parameters"
   ]
  },
  {
   "cell_type": "code",
   "execution_count": 160,
   "id": "01bf4a44",
   "metadata": {},
   "outputs": [],
   "source": [
    "learning_rate=0.0002\n",
    "m_initial=0\n",
    "b_initial=0\n",
    "no_of_iterations=100"
   ]
  },
  {
   "cell_type": "markdown",
   "id": "811fccc8",
   "metadata": {},
   "source": [
    "## Define cost function"
   ]
  },
  {
   "cell_type": "code",
   "execution_count": 161,
   "id": "e805d699",
   "metadata": {},
   "outputs": [],
   "source": [
    "def compute_cost(df,m,b):\n",
    "    total_cost=0\n",
    "    for i in range(0,len(df)):\n",
    "        x = df.iloc[i, 0]\n",
    "        y = df.iloc[i, 1]\n",
    "        total_cost+=(y-(m*x+b))**2\n",
    "    return total_cost/len(df)"
   ]
  },
  {
   "cell_type": "markdown",
   "id": "9f1fe073",
   "metadata": {},
   "source": [
    "## compute initial total cost "
   ]
  },
  {
   "cell_type": "code",
   "execution_count": 162,
   "id": "23770c2a",
   "metadata": {},
   "outputs": [
    {
     "data": {
      "text/plain": [
       "5565.107834490552"
      ]
     },
     "execution_count": 162,
     "metadata": {},
     "output_type": "execute_result"
    }
   ],
   "source": [
    "compute_cost(df,m_intial,b_initial)"
   ]
  },
  {
   "cell_type": "markdown",
   "id": "852c2ce3",
   "metadata": {},
   "source": [
    "## Gradient Descent"
   ]
  },
  {
   "cell_type": "code",
   "execution_count": 163,
   "id": "7f29332d",
   "metadata": {},
   "outputs": [],
   "source": [
    "def gradient_runner(df,m,b,no_of_iterations,learning_rate):\n",
    "    N=no_of_iterations\n",
    "    for i in range(0,N):\n",
    "        m,b=gradient_descent(df,m,b,learning_rate)\n",
    "    return m,b\n"
   ]
  },
  {
   "cell_type": "code",
   "execution_count": 164,
   "id": "cfc924bf",
   "metadata": {},
   "outputs": [],
   "source": [
    " def gradient_descent(df,m,b,learning_rate):\n",
    "        N=len(df)\n",
    "        m_gradient=0\n",
    "        b_gradient=0\n",
    "        \n",
    "        for i in range(0,N):\n",
    "            x=df.iloc[i,0]\n",
    "            y=df.iloc[i,1]\n",
    "            m_gradient+=(-2/N)*x*(y-(m*x+b))\n",
    "            b_gradient+=(-2/N)*(y-(m*x+b))\n",
    "        \n",
    "        m_updated=m-(learning_rate)*m_gradient\n",
    "        b_updated=b-(learning_rate)*b_gradient\n",
    "        return m_updated,b_updated\n",
    "        "
   ]
  },
  {
   "cell_type": "code",
   "execution_count": 165,
   "id": "1f31fddf",
   "metadata": {},
   "outputs": [],
   "source": [
    "m_final,b_final=gradient_runner(df,m_initial,b_initial,no_of_iterations,learning_rate)"
   ]
  },
  {
   "cell_type": "markdown",
   "id": "1a81f15f",
   "metadata": {},
   "source": [
    "## updated m,b  values"
   ]
  },
  {
   "cell_type": "code",
   "execution_count": 166,
   "id": "571f9736",
   "metadata": {},
   "outputs": [
    {
     "data": {
      "text/plain": [
       "(1.4786847353872594, 0.04107771659351395)"
      ]
     },
     "execution_count": 166,
     "metadata": {},
     "output_type": "execute_result"
    }
   ],
   "source": [
    "m_final,b_final"
   ]
  },
  {
   "cell_type": "code",
   "execution_count": 167,
   "id": "c23240f3",
   "metadata": {},
   "outputs": [
    {
     "data": {
      "text/plain": [
       "112.6434519807302"
      ]
     },
     "execution_count": 167,
     "metadata": {},
     "output_type": "execute_result"
    }
   ],
   "source": [
    "compute_cost(df,m_final,b_final\n",
    "            )"
   ]
  },
  {
   "cell_type": "code",
   "execution_count": 168,
   "id": "2e14b6c7",
   "metadata": {},
   "outputs": [
    {
     "data": {
      "text/plain": [
       "5452.464382509822"
      ]
     },
     "execution_count": 168,
     "metadata": {},
     "output_type": "execute_result"
    }
   ],
   "source": [
    "abs(compute_cost(df,m_initial,b_initial)-compute_cost(df,m_final,b_final))"
   ]
  },
  {
   "cell_type": "markdown",
   "id": "2c175b49",
   "metadata": {},
   "source": [
    "## plotting the data"
   ]
  },
  {
   "cell_type": "code",
   "execution_count": 169,
   "id": "e6976fbf",
   "metadata": {},
   "outputs": [
    {
     "data": {
      "image/png": "[encoded data removed]",
      "text/plain": [
       "<Figure size 432x288 with 1 Axes>"
      ]
     },
     "metadata": {
      "needs_background": "light"
     },
     "output_type": "display_data"
    }
   ],
   "source": [
    "plt.scatter(x,y)\n",
    "pred=m_final*x+b_final\n",
    "plt.plot(x,pred,c='red')\n",
    "plt.xlabel('Hours')\n",
    "plt.ylabel('Test_scores')\n",
    "plt.title('Line of best fit')\n",
    "plt.show()\n",
    "\n"
   ]
  },
  {
   "cell_type": "code",
   "execution_count": 170,
   "id": "ee09704b",
   "metadata": {},
   "outputs": [
    {
     "data": {
      "text/plain": [
       "48.101799132383924"
      ]
     },
     "execution_count": 170,
     "metadata": {},
     "output_type": "execute_result"
    }
   ],
   "source": [
    "m_final*32.502345+b_final\n"
   ]
  },
  {
   "cell_type": "code",
   "execution_count": null,
   "id": "cb14d199",
   "metadata": {},
   "outputs": [],
   "source": []
  },
  {
   "cell_type": "markdown",
   "id": "28dcfb9f",
   "metadata": {},
   "source": [
    "## Stochastic Gradient Descent"
   ]
  },
  {
   "cell_type": "code",
   "execution_count": 215,
   "id": "5a49705d",
   "metadata": {},
   "outputs": [],
   "source": [
    "no_of_iterations=350"
   ]
  },
  {
   "cell_type": "code",
   "execution_count": 216,
   "id": "b57b3ad8",
   "metadata": {},
   "outputs": [],
   "source": [
    "def SGD_runner(df,m,b,no_of_iterations,learning_rate):\n",
    "    N=no_of_iterations\n",
    "    for i in range(0,N):\n",
    "        m,b=SGD(df,m,b,learning_rate)\n",
    "        \n",
    "        print(\"Iteration_No \",i,\" cost \",compute_cost(df,m,b))\n",
    "    return m,b"
   ]
  },
  {
   "cell_type": "code",
   "execution_count": 217,
   "id": "398ee7be",
   "metadata": {},
   "outputs": [],
   "source": [
    "def SGD(df,m,b,learning_rate):\n",
    "        N=len(df)\n",
    "        m_gradient=0\n",
    "        b_gradient=0\n",
    "        \n",
    "        i = random.randint(0,N-1) #Take a random i , and apply gradient only on that!, No need to traverse the entire array\n",
    "        print(i)\n",
    "#         for i in range(0,N):\n",
    "        x=df.iloc[i,0]\n",
    "        y=df.iloc[i,1]\n",
    "        m_gradient+=(-2/N)*x*(y-(m*x+b))\n",
    "        b_gradient+=(-2/N)*(y-(m*x+b))\n",
    "        \n",
    "        m_updated=m-(learning_rate)*m_gradient\n",
    "        b_updated=b-(learning_rate)*b_gradient\n",
    "        return m_updated,b_updated"
   ]
  },
  {
   "cell_type": "markdown",
   "id": "c15fd307",
   "metadata": {},
   "source": [
    "## Check for each iteration what is the  cost value , Here in each iteration we are not calculating Gradient on the entire Data-set , we calculate only on one point"
   ]
  },
  {
   "cell_type": "code",
   "execution_count": 223,
   "id": "64bafd8f",
   "metadata": {},
   "outputs": [
    {
     "name": "stdout",
     "output_type": "stream",
     "text": [
      "6\n",
      "Iteration_No  0  cost  5443.154235120554\n",
      "90\n",
      "Iteration_No  1  cost  5379.33351930299\n",
      "73\n",
      "Iteration_No  2  cost  5308.694925839028\n",
      "90\n",
      "Iteration_No  3  cost  5246.263576333458\n",
      "61\n",
      "Iteration_No  4  cost  5149.567225201924\n",
      "22\n",
      "Iteration_No  5  cost  5076.446079137763\n",
      "40\n",
      "Iteration_No  6  cost  5014.371637267587\n",
      "10\n",
      "Iteration_No  7  cost  4948.944444955817\n",
      "46\n",
      "Iteration_No  8  cost  4892.618623404718\n",
      "77\n",
      "Iteration_No  9  cost  4839.978857563095\n",
      "25\n",
      "Iteration_No  10  cost  4728.605824263377\n",
      "73\n",
      "Iteration_No  11  cost  4667.1377473899865\n",
      "36\n",
      "Iteration_No  12  cost  4551.282092908473\n",
      "70\n",
      "Iteration_No  13  cost  4512.837465135897\n",
      "91\n",
      "Iteration_No  14  cost  4403.148455130705\n",
      "91\n",
      "Iteration_No  15  cost  4296.085352282411\n",
      "91\n",
      "Iteration_No  16  cost  4191.586657255084\n",
      "4\n",
      "Iteration_No  17  cost  4077.538555508107\n",
      "41\n",
      "Iteration_No  18  cost  4024.186520146601\n",
      "46\n",
      "Iteration_No  19  cost  3979.168116232869\n",
      "97\n",
      "Iteration_No  20  cost  3888.3066843706188\n",
      "93\n",
      "Iteration_No  21  cost  3799.597322446005\n",
      "70\n",
      "Iteration_No  22  cost  3767.4167850109543\n",
      "82\n",
      "Iteration_No  23  cost  3728.949201341644\n",
      "21\n",
      "Iteration_No  24  cost  3572.5719389641886\n",
      "91\n",
      "Iteration_No  25  cost  3485.442769339872\n",
      "29\n",
      "Iteration_No  26  cost  3406.7880395421366\n",
      "28\n",
      "Iteration_No  27  cost  3338.9389147460984\n",
      "44\n",
      "Iteration_No  28  cost  3206.3636330418244\n",
      "50\n",
      "Iteration_No  29  cost  3150.50479223486\n",
      "10\n",
      "Iteration_No  30  cost  3112.5001113176513\n",
      "76\n",
      "Iteration_No  31  cost  3025.687761211277\n",
      "73\n",
      "Iteration_No  32  cost  2988.0296487478217\n",
      "4\n",
      "Iteration_No  33  cost  2907.887969420058\n",
      "74\n",
      "Iteration_No  34  cost  2798.0257282125867\n",
      "34\n",
      "Iteration_No  35  cost  2740.3582294332527\n",
      "65\n",
      "Iteration_No  36  cost  2718.5614024015877\n",
      "50\n",
      "Iteration_No  37  cost  2670.0054521171537\n",
      "68\n",
      "Iteration_No  38  cost  2618.9490450374365\n",
      "33\n",
      "Iteration_No  39  cost  2539.2726474034025\n",
      "38\n",
      "Iteration_No  40  cost  2507.6993397328865\n",
      "12\n",
      "Iteration_No  41  cost  2473.3127588524144\n",
      "69\n",
      "Iteration_No  42  cost  2449.3671726424473\n",
      "30\n",
      "Iteration_No  43  cost  2412.5320299709447\n",
      "10\n",
      "Iteration_No  44  cost  2385.1116233837492\n",
      "69\n",
      "Iteration_No  45  cost  2362.061646887299\n",
      "95\n",
      "Iteration_No  46  cost  2310.1790332742125\n",
      "59\n",
      "Iteration_No  47  cost  2281.6766713007155\n",
      "10\n",
      "Iteration_No  48  cost  2256.1081991886526\n",
      "27\n",
      "Iteration_No  49  cost  2185.9648799644388\n",
      "32\n",
      "Iteration_No  50  cost  2145.603693262197\n",
      "53\n",
      "Iteration_No  51  cost  2114.7296124417776\n",
      "26\n",
      "Iteration_No  52  cost  2051.685045836467\n",
      "78\n",
      "Iteration_No  53  cost  2006.5807142888316\n",
      "72\n",
      "Iteration_No  54  cost  1971.1349564236311\n",
      "65\n",
      "Iteration_No  55  cost  1957.1937538953052\n",
      "68\n",
      "Iteration_No  56  cost  1923.2866161169693\n",
      "0\n",
      "Iteration_No  57  cost  1917.0338444659437\n",
      "17\n",
      "Iteration_No  58  cost  1856.6865619745236\n",
      "17\n",
      "Iteration_No  59  cost  1798.2212574645894\n",
      "93\n",
      "Iteration_No  60  cost  1753.222384162884\n",
      "75\n",
      "Iteration_No  61  cost  1712.5021688642016\n",
      "90\n",
      "Iteration_No  62  cost  1688.9915904394334\n",
      "49\n",
      "Iteration_No  63  cost  1638.7904605485312\n",
      "53\n",
      "Iteration_No  64  cost  1615.3068872965448\n",
      "84\n",
      "Iteration_No  65  cost  1563.4743709709862\n",
      "26\n",
      "Iteration_No  66  cost  1516.427347708006\n",
      "70\n",
      "Iteration_No  67  cost  1503.5173847382248\n",
      "50\n",
      "Iteration_No  68  cost  1474.001992887811\n",
      "18\n",
      "Iteration_No  69  cost  1463.8836294006685\n",
      "35\n",
      "Iteration_No  70  cost  1442.0706544867235\n",
      "24\n",
      "Iteration_No  71  cost  1414.61540735529\n",
      "71\n",
      "Iteration_No  72  cost  1396.852285032415\n",
      "39\n",
      "Iteration_No  73  cost  1379.5880642122265\n",
      "46\n",
      "Iteration_No  74  cost  1366.3157191978346\n",
      "13\n",
      "Iteration_No  75  cost  1341.2686782708206\n",
      "20\n",
      "Iteration_No  76  cost  1311.391746898287\n",
      "41\n",
      "Iteration_No  77  cost  1296.7413829628113\n",
      "62\n",
      "Iteration_No  78  cost  1264.7669451731938\n",
      "77\n",
      "Iteration_No  79  cost  1251.9306693026417\n",
      "96\n",
      "Iteration_No  80  cost  1230.41669163485\n",
      "39\n",
      "Iteration_No  81  cost  1215.2203389804763\n",
      "53\n",
      "Iteration_No  82  cost  1197.9620378791826\n",
      "17\n",
      "Iteration_No  83  cost  1160.2330914958177\n",
      "58\n",
      "Iteration_No  84  cost  1132.522209078833\n",
      "6\n",
      "Iteration_No  85  cost  1108.815870042213\n",
      "5\n",
      "Iteration_No  86  cost  1087.0378627615196\n",
      "14\n",
      "Iteration_No  87  cost  1063.8449914513042\n",
      "19\n",
      "Iteration_No  88  cost  1052.6724535105877\n",
      "59\n",
      "Iteration_No  89  cost  1040.7324723361423\n",
      "90\n",
      "Iteration_No  90  cost  1025.346989125948\n",
      "63\n",
      "Iteration_No  91  cost  1016.1253616994273\n",
      "50\n",
      "Iteration_No  92  cost  994.8662592651053\n",
      "28\n",
      "Iteration_No  93  cost  974.0754656083473\n",
      "73\n",
      "Iteration_No  94  cost  964.3074885689622\n",
      "78\n",
      "Iteration_No  95  cost  945.1498205305796\n",
      "33\n",
      "Iteration_No  96  cost  915.6915704229713\n",
      "16\n",
      "Iteration_No  97  cost  894.5124092122105\n",
      "83\n",
      "Iteration_No  98  cost  879.1853815318963\n",
      "16\n",
      "Iteration_No  99  cost  858.7809382970121\n",
      "68\n",
      "Iteration_No  100  cost  849.5562729654039\n",
      "75\n",
      "Iteration_No  101  cost  827.9994342695966\n",
      "7\n",
      "Iteration_No  102  cost  818.7565956725012\n",
      "57\n",
      "Iteration_No  103  cost  800.7408020622072\n",
      "4\n",
      "Iteration_No  104  cost  781.9593462008472\n",
      "30\n",
      "Iteration_No  105  cost  774.8735504534931\n",
      "10\n",
      "Iteration_No  106  cost  769.5691339000857\n",
      "51\n",
      "Iteration_No  107  cost  759.5330876110373\n",
      "33\n",
      "Iteration_No  108  cost  735.9059605440027\n",
      "33\n",
      "Iteration_No  109  cost  713.0293269316393\n",
      "94\n",
      "Iteration_No  110  cost  692.8833691651422\n",
      "52\n",
      "Iteration_No  111  cost  683.1243869104854\n",
      "90\n",
      "Iteration_No  112  cost  672.4274554236237\n",
      "23\n",
      "Iteration_No  113  cost  668.6670270036643\n",
      "80\n",
      "Iteration_No  114  cost  656.4580945730913\n",
      "83\n",
      "Iteration_No  115  cost  646.6772615584438\n",
      "34\n",
      "Iteration_No  116  cost  638.4109234788801\n",
      "83\n",
      "Iteration_No  117  cost  629.0418955353384\n",
      "16\n",
      "Iteration_No  118  cost  614.0935738544953\n",
      "61\n",
      "Iteration_No  119  cost  605.9952896176246\n",
      "93\n",
      "Iteration_No  120  cost  588.7985027175531\n",
      "75\n",
      "Iteration_No  121  cost  573.3110159906654\n",
      "42\n",
      "Iteration_No  122  cost  560.3719055633434\n",
      "59\n",
      "Iteration_No  123  cost  554.8410018185571\n",
      "58\n",
      "Iteration_No  124  cost  541.4394565140032\n",
      "53\n",
      "Iteration_No  125  cost  534.2703260406997\n",
      "42\n",
      "Iteration_No  126  cost  522.2730936767049\n",
      "97\n",
      "Iteration_No  127  cost  509.633364044013\n",
      "45\n",
      "Iteration_No  128  cost  506.9668713499453\n",
      "69\n",
      "Iteration_No  129  cost  502.9791839299812\n",
      "81\n",
      "Iteration_No  130  cost  493.38167630389813\n",
      "34\n",
      "Iteration_No  131  cost  488.2491885951502\n",
      "79\n",
      "Iteration_No  132  cost  487.54524750991544\n",
      "9\n",
      "Iteration_No  133  cost  481.9009665683498\n",
      "11\n",
      "Iteration_No  134  cost  472.37117991811147\n",
      "4\n",
      "Iteration_No  135  cost  462.7081810724147\n",
      "2\n",
      "Iteration_No  136  cost  465.1957112678411\n",
      "75\n",
      "Iteration_No  137  cost  452.77614743706414\n",
      "75\n",
      "Iteration_No  138  cost  440.6750372404812\n",
      "38\n",
      "Iteration_No  139  cost  435.04889118251214\n",
      "58\n",
      "Iteration_No  140  cost  424.6716239247289\n",
      "84\n",
      "Iteration_No  141  cost  410.9594805908123\n",
      "27\n",
      "Iteration_No  142  cost  400.89502951905706\n",
      "79\n",
      "Iteration_No  143  cost  400.7735821800733\n",
      "57\n",
      "Iteration_No  144  cost  394.3193879823412\n",
      "79\n",
      "Iteration_No  145  cost  394.23903420168944\n",
      "93\n",
      "Iteration_No  146  cost  382.80902427702887\n",
      "37\n",
      "Iteration_No  147  cost  380.06740558869717\n",
      "26\n",
      "Iteration_No  148  cost  369.1586655601137\n",
      "69\n",
      "Iteration_No  149  cost  366.56780924709443\n",
      "27\n",
      "Iteration_No  150  cost  357.966619152667\n",
      "53\n",
      "Iteration_No  151  cost  353.6412457361665\n",
      "52\n",
      "Iteration_No  152  cost  349.1010102605411\n",
      "98\n",
      "Iteration_No  153  cost  346.2053796444369\n",
      "53\n",
      "Iteration_No  154  cost  342.06563244428946\n",
      "94\n",
      "Iteration_No  155  cost  334.85614099084376\n",
      "44\n",
      "Iteration_No  156  cost  319.79471664074924\n",
      "74\n",
      "Iteration_No  157  cost  311.5978618490614\n",
      "89\n",
      "Iteration_No  158  cost  308.2132741893481\n",
      "80\n",
      "Iteration_No  159  cost  304.4277558631283\n",
      "75\n",
      "Iteration_No  160  cost  296.3536866797306\n",
      "91\n",
      "Iteration_No  161  cost  290.3535278029799\n",
      "73\n",
      "Iteration_No  162  cost  289.08297060747225\n",
      "51\n",
      "Iteration_No  163  cost  286.47142770280874\n",
      "81\n",
      "Iteration_No  164  cost  282.29497704765237\n",
      "72\n",
      "Iteration_No  165  cost  278.5845350691558\n",
      "71\n",
      "Iteration_No  166  cost  279.1088117396229\n",
      "12\n",
      "Iteration_No  167  cost  277.27436967326145\n",
      "4\n",
      "Iteration_No  168  cost  272.97514505849034\n",
      "64\n",
      "Iteration_No  169  cost  268.13616803460826\n",
      "49\n",
      "Iteration_No  170  cost  263.6523427954208\n",
      "53\n",
      "Iteration_No  171  cost  260.8346945872227\n",
      "86\n",
      "Iteration_No  172  cost  259.23324287618095\n",
      "58\n",
      "Iteration_No  173  cost  253.60577921043674\n",
      "23\n",
      "Iteration_No  174  cost  253.6518579342866\n",
      "42\n",
      "Iteration_No  175  cost  248.77006808376515\n",
      "2\n",
      "Iteration_No  176  cost  252.83776728630303\n",
      "69\n",
      "Iteration_No  177  cost  251.42498491334555\n",
      "92\n",
      "Iteration_No  178  cost  242.08996497788587\n",
      "23\n",
      "Iteration_No  179  cost  242.21211535975215\n",
      "22\n",
      "Iteration_No  180  cost  242.6808327749854\n",
      "45\n",
      "Iteration_No  181  cost  241.983446108467\n",
      "10\n",
      "Iteration_No  182  cost  242.33149890933572\n",
      "88\n",
      "Iteration_No  183  cost  238.66511381862205\n",
      "18\n",
      "Iteration_No  184  cost  240.38664657366246\n",
      "96\n",
      "Iteration_No  185  cost  238.08274316591283\n",
      "16\n",
      "Iteration_No  186  cost  232.78158292580858\n",
      "77\n",
      "Iteration_No  187  cost  231.37937827994043\n",
      "70\n",
      "Iteration_No  188  cost  229.93371656633542\n",
      "72\n",
      "Iteration_No  189  cost  227.26154280937132\n",
      "78\n",
      "Iteration_No  190  cost  225.13361472329626\n",
      "32\n",
      "Iteration_No  191  cost  221.063611273933\n",
      "73\n",
      "Iteration_No  192  cost  220.52208059040169\n",
      "71\n",
      "Iteration_No  193  cost  221.54411441084602\n",
      "15\n",
      "Iteration_No  194  cost  221.84457012261151\n",
      "93\n",
      "Iteration_No  195  cost  215.86891367269303\n",
      "23\n",
      "Iteration_No  196  cost  216.1493022873519\n",
      "10\n",
      "Iteration_No  197  cost  216.66249749505587\n",
      "40\n",
      "Iteration_No  198  cost  217.41446462992576\n",
      "65\n",
      "Iteration_No  199  cost  218.31509788446976\n",
      "19\n"
     ]
    },
    {
     "name": "stdout",
     "output_type": "stream",
     "text": [
      "Iteration_No  200  cost  217.1330469440019\n",
      "40\n",
      "Iteration_No  201  cost  217.88295397838297\n",
      "30\n",
      "Iteration_No  202  cost  218.56270134266586\n",
      "94\n",
      "Iteration_No  203  cost  215.51340267033282\n",
      "88\n",
      "Iteration_No  204  cost  212.44551716236754\n",
      "48\n",
      "Iteration_No  205  cost  211.18004352435045\n",
      "76\n",
      "Iteration_No  206  cost  207.15265804998052\n",
      "85\n",
      "Iteration_No  207  cost  205.18491198880122\n",
      "45\n",
      "Iteration_No  208  cost  204.74295896247727\n",
      "34\n",
      "Iteration_No  209  cost  204.72819740519614\n",
      "34\n",
      "Iteration_No  210  cost  204.71363231854423\n",
      "78\n",
      "Iteration_No  211  cost  203.07053404813325\n",
      "58\n",
      "Iteration_No  212  cost  199.13006758094255\n",
      "80\n",
      "Iteration_No  213  cost  197.73493274211117\n",
      "96\n",
      "Iteration_No  214  cost  196.2247385946562\n",
      "76\n",
      "Iteration_No  215  cost  192.7044813613301\n",
      "45\n",
      "Iteration_No  216  cost  192.3447169485937\n",
      "82\n",
      "Iteration_No  217  cost  190.99614242736098\n",
      "21\n",
      "Iteration_No  218  cost  183.45866413109937\n",
      "28\n",
      "Iteration_No  219  cost  180.69268475915396\n",
      "81\n",
      "Iteration_No  220  cost  179.12648215811\n",
      "97\n",
      "Iteration_No  221  cost  176.00687735916406\n",
      "64\n",
      "Iteration_No  222  cost  173.31016808844066\n",
      "10\n",
      "Iteration_No  223  cost  174.01129132610936\n",
      "56\n",
      "Iteration_No  224  cost  170.89597449030987\n",
      "16\n",
      "Iteration_No  225  cost  167.72416776888946\n",
      "76\n",
      "Iteration_No  226  cost  165.20320775580262\n",
      "21\n",
      "Iteration_No  227  cost  159.43887330145625\n",
      "58\n",
      "Iteration_No  228  cost  156.9601788999252\n",
      "58\n",
      "Iteration_No  229  cost  154.57197620972306\n",
      "71\n",
      "Iteration_No  230  cost  155.80006905954238\n",
      "25\n",
      "Iteration_No  231  cost  156.62242644533225\n",
      "38\n",
      "Iteration_No  232  cost  155.37171997480442\n",
      "95\n",
      "Iteration_No  233  cost  153.5537987818383\n",
      "31\n",
      "Iteration_No  234  cost  154.16126741677016\n",
      "63\n",
      "Iteration_No  235  cost  155.27757577396756\n",
      "1\n",
      "Iteration_No  236  cost  155.7353031897263\n",
      "52\n",
      "Iteration_No  237  cost  154.59013829960332\n",
      "65\n",
      "Iteration_No  238  cost  155.46827572390225\n",
      "32\n",
      "Iteration_No  239  cost  153.3442186886551\n",
      "73\n",
      "Iteration_No  240  cost  153.39471134271122\n",
      "29\n",
      "Iteration_No  241  cost  151.4716165997389\n",
      "44\n",
      "Iteration_No  242  cost  146.92403834775644\n",
      "9\n",
      "Iteration_No  243  cost  146.95863046224432\n",
      "48\n",
      "Iteration_No  244  cost  146.4384936460765\n",
      "24\n",
      "Iteration_No  245  cost  145.87333741218256\n",
      "77\n",
      "Iteration_No  246  cost  145.46207503573933\n",
      "45\n",
      "Iteration_No  247  cost  145.38910226941357\n",
      "17\n",
      "Iteration_No  248  cost  143.34297616231203\n",
      "59\n",
      "Iteration_No  249  cost  143.06118496566324\n",
      "29\n",
      "Iteration_No  250  cost  141.4982663560421\n",
      "87\n",
      "Iteration_No  251  cost  141.44130071561815\n",
      "63\n",
      "Iteration_No  252  cost  142.4904665696011\n",
      "51\n",
      "Iteration_No  253  cost  142.0909613227094\n",
      "65\n",
      "Iteration_No  254  cost  142.89974459690572\n",
      "73\n",
      "Iteration_No  255  cost  143.01530147295557\n",
      "12\n",
      "Iteration_No  256  cost  142.86567974762767\n",
      "6\n",
      "Iteration_No  257  cost  141.93905212447086\n",
      "63\n",
      "Iteration_No  258  cost  142.99204968403313\n",
      "85\n",
      "Iteration_No  259  cost  142.42112353190393\n",
      "55\n",
      "Iteration_No  260  cost  142.94244475668688\n",
      "34\n",
      "Iteration_No  261  cost  143.5328907103202\n",
      "22\n",
      "Iteration_No  262  cost  144.35099115175296\n",
      "29\n",
      "Iteration_No  263  cost  142.7418528299894\n",
      "10\n",
      "Iteration_No  264  cost  143.44691726407973\n",
      "1\n",
      "Iteration_No  265  cost  143.961234534056\n",
      "70\n",
      "Iteration_No  266  cost  143.45558812117144\n",
      "6\n",
      "Iteration_No  267  cost  142.51352181848088\n",
      "13\n",
      "Iteration_No  268  cost  143.0611783594896\n",
      "1\n",
      "Iteration_No  269  cost  143.5767065643064\n",
      "25\n",
      "Iteration_No  270  cost  144.43354777475943\n",
      "54\n",
      "Iteration_No  271  cost  144.01840830369395\n",
      "73\n",
      "Iteration_No  272  cost  144.12767036261315\n",
      "11\n",
      "Iteration_No  273  cost  143.13951179929705\n",
      "43\n",
      "Iteration_No  274  cost  143.00725472837607\n",
      "82\n",
      "Iteration_No  275  cost  142.35264590249392\n",
      "55\n",
      "Iteration_No  276  cost  142.87420748394868\n",
      "55\n",
      "Iteration_No  277  cost  143.39389527228352\n",
      "76\n",
      "Iteration_No  278  cost  141.78524919384247\n",
      "16\n",
      "Iteration_No  279  cost  139.74051814904107\n",
      "57\n",
      "Iteration_No  280  cost  139.66473257263632\n",
      "88\n",
      "Iteration_No  281  cost  138.49564112288186\n",
      "90\n",
      "Iteration_No  282  cost  137.05891886218308\n",
      "61\n",
      "Iteration_No  283  cost  137.00301583054954\n",
      "59\n",
      "Iteration_No  284  cost  136.7922808616872\n",
      "62\n",
      "Iteration_No  285  cost  135.39831288752828\n",
      "52\n",
      "Iteration_No  286  cost  134.6793016936914\n",
      "81\n",
      "Iteration_No  287  cost  134.21725863690762\n",
      "3\n",
      "Iteration_No  288  cost  133.71623192997288\n",
      "63\n",
      "Iteration_No  289  cost  134.68825003239965\n",
      "29\n",
      "Iteration_No  290  cost  133.43725618097852\n",
      "64\n",
      "Iteration_No  291  cost  132.0405759396726\n",
      "25\n",
      "Iteration_No  292  cost  132.86681980437953\n",
      "41\n",
      "Iteration_No  293  cost  132.99312945054976\n",
      "3\n",
      "Iteration_No  294  cost  132.5173644800978\n",
      "67\n",
      "Iteration_No  295  cost  130.9369694085498\n",
      "89\n",
      "Iteration_No  296  cost  130.39647118424529\n",
      "15\n",
      "Iteration_No  297  cost  131.02597867112482\n",
      "46\n",
      "Iteration_No  298  cost  131.15680099386861\n",
      "2\n",
      "Iteration_No  299  cost  133.6865021274336\n",
      "86\n",
      "Iteration_No  300  cost  133.80848606100201\n",
      "23\n",
      "Iteration_No  301  cost  134.29192697116932\n",
      "2\n",
      "Iteration_No  302  cost  136.96859220347847\n",
      "27\n",
      "Iteration_No  303  cost  136.04983778594678\n",
      "50\n",
      "Iteration_No  304  cost  134.07102094191995\n",
      "87\n",
      "Iteration_No  305  cost  134.09147599275101\n",
      "19\n",
      "Iteration_No  306  cost  133.8735580360612\n",
      "23\n",
      "Iteration_No  307  cost  134.3572825845487\n",
      "30\n",
      "Iteration_No  308  cost  135.24378148966002\n",
      "29\n",
      "Iteration_No  309  cost  133.97133312282114\n",
      "91\n",
      "Iteration_No  310  cost  132.87659973202153\n",
      "39\n",
      "Iteration_No  311  cost  132.30819015485085\n",
      "17\n",
      "Iteration_No  312  cost  130.88979607001235\n",
      "50\n",
      "Iteration_No  313  cost  129.17462678916593\n",
      "1\n",
      "Iteration_No  314  cost  129.6916329296491\n",
      "79\n",
      "Iteration_No  315  cost  130.3120117194165\n",
      "85\n",
      "Iteration_No  316  cost  130.00509520025653\n",
      "74\n",
      "Iteration_No  317  cost  129.3026927704408\n",
      "8\n",
      "Iteration_No  318  cost  128.67423556867\n",
      "82\n",
      "Iteration_No  319  cost  128.25573670910887\n",
      "49\n",
      "Iteration_No  320  cost  127.95381293176659\n",
      "64\n",
      "Iteration_No  321  cost  126.78091241541985\n",
      "69\n",
      "Iteration_No  322  cost  126.64114970760951\n",
      "85\n",
      "Iteration_No  323  cost  126.40852341586586\n",
      "38\n",
      "Iteration_No  324  cost  125.82537684556947\n",
      "51\n",
      "Iteration_No  325  cost  125.6649723782915\n",
      "8\n",
      "Iteration_No  326  cost  125.14103347808017\n",
      "54\n",
      "Iteration_No  327  cost  125.03543588038097\n",
      "19\n",
      "Iteration_No  328  cost  124.91684387491237\n",
      "5\n",
      "Iteration_No  329  cost  124.87822118973047\n",
      "72\n",
      "Iteration_No  330  cost  124.46127925423077\n",
      "65\n",
      "Iteration_No  331  cost  125.06320348605175\n",
      "35\n",
      "Iteration_No  332  cost  124.89977957075196\n",
      "85\n",
      "Iteration_No  333  cost  124.70185354197544\n",
      "29\n",
      "Iteration_No  334  cost  123.8651218471613\n",
      "56\n",
      "Iteration_No  335  cost  122.7508765157753\n",
      "41\n",
      "Iteration_No  336  cost  122.90351289580674\n",
      "3\n",
      "Iteration_No  337  cost  122.64101604787322\n",
      "14\n",
      "Iteration_No  338  cost  122.56205980160125\n",
      "59\n",
      "Iteration_No  339  cost  122.50347432120594\n",
      "97\n",
      "Iteration_No  340  cost  121.62397410963798\n",
      "36\n",
      "Iteration_No  341  cost  122.38638352120759\n",
      "96\n",
      "Iteration_No  342  cost  122.2433367032321\n",
      "59\n",
      "Iteration_No  343  cost  122.18783344858132\n",
      "0\n",
      "Iteration_No  344  cost  122.77320602984318\n",
      "37\n",
      "Iteration_No  345  cost  122.61159581059076\n",
      "59\n",
      "Iteration_No  346  cost  122.55252952012039\n",
      "59\n",
      "Iteration_No  347  cost  122.49403647542664\n",
      "63\n",
      "Iteration_No  348  cost  123.25689621034724\n",
      "4\n",
      "Iteration_No  349  cost  123.05203474734135\n"
     ]
    }
   ],
   "source": [
    "m_final_SGD,b_final_SGD=SGD_runner(df,m_initial,b_initial,no_of_iterations,learning_rate)"
   ]
  },
  {
   "cell_type": "code",
   "execution_count": 224,
   "id": "61d58ea7",
   "metadata": {},
   "outputs": [
    {
     "data": {
      "text/plain": [
       "(1.4143055999033611, 0.028769951455673425)"
      ]
     },
     "execution_count": 224,
     "metadata": {},
     "output_type": "execute_result"
    }
   ],
   "source": [
    "m_final_SGD,b_final_SGD"
   ]
  },
  {
   "cell_type": "code",
   "execution_count": 225,
   "id": "b0bc453c",
   "metadata": {},
   "outputs": [
    {
     "data": {
      "text/plain": [
       "123.05203474734135"
      ]
     },
     "execution_count": 225,
     "metadata": {},
     "output_type": "execute_result"
    }
   ],
   "source": [
    "compute_cost(df,m_final_SGD,b_final_SGD)"
   ]
  },
  {
   "cell_type": "markdown",
   "id": "ce04b0bb",
   "metadata": {},
   "source": [
    "## Plot a scatter plot of line-fit done using SGD"
   ]
  },
  {
   "cell_type": "code",
   "execution_count": 226,
   "id": "fb8c8828",
   "metadata": {},
   "outputs": [
    {
     "data": {
      "image/png": "[encoded data removed]",
      "text/plain": [
       "<Figure size 432x288 with 1 Axes>"
      ]
     },
     "metadata": {
      "needs_background": "light"
     },
     "output_type": "display_data"
    }
   ],
   "source": [
    "plt.scatter(x,y)\n",
    "pred=m_final_SGD*x+b_final_SGD\n",
    "plt.plot(x,pred,c='red')\n",
    "plt.xlabel('Hours')\n",
    "plt.ylabel('Test_scores')\n",
    "plt.title('Line of best fit')\n",
    "plt.show()\n",
    "\n"
   ]
  },
  {
   "cell_type": "markdown",
   "id": "7fa0f4b7",
   "metadata": {},
   "source": [
    "## Logic to compute the cost function directly instead using for loop (like in comments )"
   ]
  },
  {
   "cell_type": "code",
   "execution_count": 241,
   "id": "62340764",
   "metadata": {},
   "outputs": [],
   "source": [
    "def compute_cost_new(df,m,b):\n",
    "    total_cost=0\n",
    "    y=df['Test_scores']\n",
    "    x=df['Hours']\n",
    "#     for i in range(0,len(df)):\n",
    "#         x = df.iloc[i, 0]\n",
    "#         y = df.iloc[i, 1]\n",
    "#         total_cost+=(y-(m*x+b))**2\n",
    "    diff=(y-(m*x+b))**2\n",
    "    print(diff)\n",
    "    for j in range (0,len(diff)):\n",
    "        total_cost+=diff[j]\n",
    "    return total_cost/len(df)"
   ]
  },
  {
   "cell_type": "code",
   "execution_count": 242,
   "id": "38acab4d",
   "metadata": {
    "scrolled": true
   },
   "outputs": [
    {
     "name": "stdout",
     "output_type": "stream",
     "text": [
      "0     1005.334220\n",
      "1     4730.357709\n",
      "2     3914.051679\n",
      "3     5118.920583\n",
      "4     7609.234299\n",
      "         ...     \n",
      "95    6648.280865\n",
      "96    5200.116382\n",
      "97    7264.495075\n",
      "98    4385.745048\n",
      "99    2857.372260\n",
      "Length: 100, dtype: float64\n"
     ]
    },
    {
     "data": {
      "text/plain": [
       "5565.107834490552"
      ]
     },
     "execution_count": 242,
     "metadata": {},
     "output_type": "execute_result"
    }
   ],
   "source": [
    "compute_cost_new(df,m_initial,b_initial)"
   ]
  }
 ],
 "metadata": {
  "kernelspec": {
   "display_name": "Python 3 (ipykernel)",
   "language": "python",
   "name": "python3"
  },
  "language_info": {
   "codemirror_mode": {
    "name": "ipython",
    "version": 3
   },
   "file_extension": ".py",
   "mimetype": "text/x-python",
   "name": "python",
   "nbconvert_exporter": "python",
   "pygments_lexer": "ipython3",
   "version": "3.9.12"
  }
 },
 "nbformat": 4,
 "nbformat_minor": 5
}
